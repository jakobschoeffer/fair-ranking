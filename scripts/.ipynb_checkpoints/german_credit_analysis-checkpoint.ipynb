{
 "cells": [
  {
   "cell_type": "markdown",
   "metadata": {},
   "source": [
    "# Analysis of German Credit Data"
   ]
  },
  {
   "cell_type": "markdown",
   "metadata": {},
   "source": [
    "## Package imports and settings"
   ]
  },
  {
   "cell_type": "code",
   "execution_count": 161,
   "metadata": {},
   "outputs": [],
   "source": [
    "import pandas as pd\n",
    "import numpy as np\n",
    "import scipy as sp\n",
    "import math\n",
    "import scipy\n",
    "from sklearn import preprocessing\n",
    "from sklearn import metrics\n",
    "from sklearn.ensemble import RandomForestClassifier\n",
    "from sklearn.linear_model import LogisticRegression\n",
    "from sklearn.inspection import permutation_importance\n",
    "from sklearn.metrics import confusion_matrix\n",
    "import matplotlib.pyplot as plt\n",
    "import tikzplotlib\n",
    "\n",
    "pd.set_option('display.max_columns', None)\n",
    "pd.set_option('display.max_rows', None)"
   ]
  },
  {
   "cell_type": "markdown",
   "metadata": {},
   "source": [
    "## Import data"
   ]
  },
  {
   "cell_type": "code",
   "execution_count": 162,
   "metadata": {},
   "outputs": [],
   "source": [
    "data = pd.read_csv('../data/german_credit.csv')\n",
    "data = data.apply(pd.to_numeric)"
   ]
  },
  {
   "cell_type": "markdown",
   "metadata": {},
   "source": [
    "## Shuffle data"
   ]
  },
  {
   "cell_type": "code",
   "execution_count": 163,
   "metadata": {},
   "outputs": [],
   "source": [
    "data = data.sample(frac=1, random_state=4).reset_index(drop=True)"
   ]
  },
  {
   "cell_type": "markdown",
   "metadata": {},
   "source": [
    "## Change column names"
   ]
  },
  {
   "cell_type": "code",
   "execution_count": 164,
   "metadata": {},
   "outputs": [],
   "source": [
    "data = data.rename(columns={\"Creditability\": \"classification\", \"Account Balance\": \"existingchecking\", \"Duration of Credit (month)\": \"duration\", \"Payment Status of Previous Credit\": \"credithistory\", \"Purpose\": \"purpose\", \"Credit Amount\": \"creditamount\", \"Value Savings/Stocks\": \"savings\", \"Length of current employment\": \"employmentsince\", \"Instalment per cent\": \"installmentrate\", \"Sex & Marital Status\": \"statussex\", \"Guarantors\": \"otherdebtors\", \"Duration in Current address\": \"residencesince\", \"Most valuable available asset\": \"property\", \"Age (years)\": \"age\", \"Concurrent Credits\": \"otherinstallmentplans\", \"Type of apartment\": \"housing\", \"No of Credits at this Bank\": \"existingcredits\", \"Occupation\": \"job\", \"No of dependents\": \"peopleliable\", \"Telephone\": \"telephone\", \"Foreign Worker\": \"foreignworker\"})"
   ]
  },
  {
   "cell_type": "code",
   "execution_count": 165,
   "metadata": {},
   "outputs": [],
   "source": [
    "data.head()"
   ]
  },
  {
   "cell_type": "markdown",
   "metadata": {},
   "source": [
    "## Variable Explanations"
   ]
  },
  {
   "cell_type": "markdown",
   "metadata": {},
   "source": [
    "- **classification**: 1 (good credit), 0 (bad credit)\n",
    "- **existingchecking**: 1 (<0DM), 2 (0<=...<200DM), 3 (>=200DM), 4 (no checking account)\n",
    "- **duration**: Duration of credit in months\n",
    "- **credithistory**: 0 (no credits taken/all credits paid back duly), 1 (all credits at this bank paid back duly), 2 (existing credits paid back duly till now), 3 (delay in paying off in the past), 4 (critical account/other credits existing (not at this bank))\n",
    "- **purpose**: 0 (car new), 1 (car used), 2 (furniture/equipment), 3 (radio/television), 4 (domestic appliances), 5 (repairs), 6 (education), 7 (vacation – does not exist), 8 (retraining), 9 (business), 10 (others)\n",
    "- **creditamount**: credit amount (in DM)\n",
    "- **savings**: 1 (<100DM), 2 (100<=...<500DM), 3 (500<=...<1000DM), 4 (>=1000DM), 5 (unknown/no savings account)\n",
    "- **employmentsince**: 1 (unemployed), 2 (<1 year), 3 (1<=...<4 years), 4 (4<=...<7 years), 5 (>=7 years)\n",
    "- **installmentrate**: installment rate in percentage of disposable income\n",
    "- **statussex**: 1 (male divorced/separated), 2 (female divorced/separated/married), 3 (male single), 4 (male married/widowed), 5 (female single – does not exist)\n",
    "- **otherdebtors**: 1 (none), 2 (co-applicant), 3 (guarantor)\n",
    "- **residencesince**: present resident since (in years?)\n",
    "- **property**: 1 (real estate), 2 (if not 1: building society savings agreement/life insurance), 3 (if not 1 or 2: car or other, not in savings attribute), 4 (unknown/no property)\n",
    "- **age**: age in years\n",
    "- **otherinstallmentplans**: 1 (bank), 2 (stores), 3 (none)\n",
    "- **housing**: 1 (rent), 2 (own), 3 (for free)\n",
    "- **existingcredits**: number of existing credits at this bank\n",
    "- **job**: 1 (unemployed/unskilled – non-resident), 2 (unskilled – resident), 3 (skilled employee/official), 4 (management/self-employed/highly qualified employee/officer)\n",
    "- **peopleliable**: number of people being liable to provide maintenance for\n",
    "- **telephone**: 1 (none), 2 (yes, registered under the customer's name)\n",
    "- **foreignworker**: 1 (yes), 2 (no)"
   ]
  },
  {
   "cell_type": "markdown",
   "metadata": {},
   "source": [
    "## Replace values"
   ]
  },
  {
   "cell_type": "markdown",
   "metadata": {},
   "source": [
    "In order for features to have a monotonic relationship with outcome."
   ]
  },
  {
   "cell_type": "code",
   "execution_count": 166,
   "metadata": {},
   "outputs": [],
   "source": [
    "data.existingchecking[data.existingchecking == 4] = 0\n",
    "data.savings[data.savings == 5] = 0\n",
    "data.housing[data.housing == 3] = 0"
   ]
  },
  {
   "cell_type": "markdown",
   "metadata": {},
   "source": [
    "## Separate holdout set"
   ]
  },
  {
   "cell_type": "code",
   "execution_count": 167,
   "metadata": {},
   "outputs": [],
   "source": [
    "train = data.iloc[:800]\n",
    "test = data.iloc[800:]\n",
    "\n",
    "X_train = train.drop(\"classification\",1)\n",
    "X_test = test.drop(\"classification\",1)\n",
    "y_train = train[\"classification\"]\n",
    "y_test = test[\"classification\"]"
   ]
  },
  {
   "cell_type": "code",
   "execution_count": 168,
   "metadata": {},
   "outputs": [],
   "source": [
    "share_good_test = len(test[test.classification == 1])/len(test)\n",
    "#print(share_good_test)"
   ]
  },
  {
   "cell_type": "markdown",
   "metadata": {},
   "source": [
    "## Feature scaling (MinMaxScaler)"
   ]
  },
  {
   "cell_type": "code",
   "execution_count": 169,
   "metadata": {},
   "outputs": [],
   "source": [
    "col_names = X_train.columns"
   ]
  },
  {
   "cell_type": "code",
   "execution_count": 170,
   "metadata": {},
   "outputs": [],
   "source": [
    "scaler = preprocessing.MinMaxScaler()\n",
    "\n",
    "X_train_scaled = scaler.fit_transform(X_train)\n",
    "X_train_scaled = pd.DataFrame(X_train_scaled, columns=col_names)\n",
    "\n",
    "X_test_scaled = scaler.transform(X_test)\n",
    "X_test_scaled = pd.DataFrame(X_test_scaled, columns=col_names)"
   ]
  },
  {
   "cell_type": "markdown",
   "metadata": {},
   "source": [
    "### Truncate test values between 0 and 1"
   ]
  },
  {
   "cell_type": "code",
   "execution_count": 171,
   "metadata": {},
   "outputs": [],
   "source": [
    "X_test_scaled[X_test_scaled > 1] = 1\n",
    "X_test_scaled[X_test_scaled < 0] = 0"
   ]
  },
  {
   "cell_type": "code",
   "execution_count": 172,
   "metadata": {},
   "outputs": [],
   "source": [
    "#X_test_scaled.head()"
   ]
  },
  {
   "cell_type": "markdown",
   "metadata": {},
   "source": [
    "## Define sensitive (and legitimate) plus irrelevant features"
   ]
  },
  {
   "cell_type": "code",
   "execution_count": 173,
   "metadata": {},
   "outputs": [],
   "source": [
    "sensitive = ['statussex', 'age', 'foreignworker']\n",
    "irrelevant = ['duration','purpose', 'installmentrate', 'otherdebtors', 'residencesince', 'otherinstallmentplans', 'existingcredits', 'peopleliable', 'telephone']"
   ]
  },
  {
   "cell_type": "code",
   "execution_count": 174,
   "metadata": {},
   "outputs": [],
   "source": [
    "X_train_scaled_legit = X_train_scaled.drop(sensitive,1)\n",
    "X_train_scaled_relevant = X_train_scaled.drop(irrelevant,1)\n",
    "X_train_scaled_lr = X_train_scaled_legit.drop(irrelevant,1)\n",
    "\n",
    "X_test_scaled_legit = X_test_scaled.drop(sensitive,1)\n",
    "X_test_scaled_relevant = X_test_scaled.drop(irrelevant,1)\n",
    "X_test_scaled_lr = X_test_scaled_legit.drop(irrelevant,1)"
   ]
  },
  {
   "cell_type": "code",
   "execution_count": 175,
   "metadata": {},
   "outputs": [],
   "source": [
    "#data_irrelevant = data.drop(sensitive,1)\n",
    "#data_irrelevant = data_irrelevant.drop(X_train_scaled_lr.columns,1)\n",
    "#data_X_irrelevant = data_irrelevant.drop([\"classification\",\"duration\"],1)\n",
    "#len(data_X_irrelevant)-len(data_X_irrelevant.drop_duplicates())"
   ]
  },
  {
   "cell_type": "markdown",
   "metadata": {},
   "source": [
    "## Feature importance from historical decisions"
   ]
  },
  {
   "cell_type": "code",
   "execution_count": 178,
   "metadata": {},
   "outputs": [],
   "source": [
    "X_train_scaled_lr_array = X_train_scaled_lr.to_numpy()"
   ]
  },
  {
   "cell_type": "markdown",
   "metadata": {},
   "source": [
    "### Train RF classifier"
   ]
  },
  {
   "cell_type": "markdown",
   "metadata": {},
   "source": [
    "Train five random forest classifiers, each with different random state, and compute permutation importance."
   ]
  },
  {
   "cell_type": "code",
   "execution_count": 179,
   "metadata": {},
   "outputs": [
    {
     "name": "stdout",
     "output_type": "stream",
     "text": [
      "Iteration 1:\n",
      "0.79125\n",
      "0.79\n",
      "0.74375\n",
      "----------\n",
      "Iteration 2:\n",
      "0.7975\n",
      "0.785\n",
      "0.7375\n",
      "----------\n",
      "Iteration 3:\n",
      "0.78625\n",
      "0.785\n",
      "0.73125\n",
      "----------\n",
      "Iteration 4:\n",
      "0.79875\n",
      "0.785\n",
      "0.7375\n",
      "----------\n",
      "Iteration 5:\n",
      "0.79375\n",
      "0.79\n",
      "0.7325\n",
      "----------\n"
     ]
    }
   ],
   "source": [
    "imp = list()\n",
    "\n",
    "for i in range(1,6):\n",
    "    model = RandomForestClassifier(random_state=i, criterion='gini', oob_score=True, min_samples_leaf=10)\n",
    "    model.fit(X_train_scaled_lr_array, y_train)\n",
    "    \n",
    "    print('Iteration ' + str(i) +':')\n",
    "    print(model.score(X_train_scaled_lr,y_train)) #Training score\n",
    "    print(model.score(X_test_scaled_lr,y_test)) #Test score\n",
    "    print(model.oob_score_) #OOB score\n",
    "    print('----------')\n",
    "    \n",
    "    result = permutation_importance(model, X_train_scaled_lr, y_train, random_state=i, n_repeats = 10)\n",
    "    #result = permutation_importance(model, X_test_scaled_lr, y_test, random_state=1, n_repeats = 10)\n",
    "    #sorted_idx = result.importances_mean.argsort()\n",
    "    \n",
    "    imp.append(result.importances)"
   ]
  },
  {
   "cell_type": "markdown",
   "metadata": {},
   "source": [
    "### Compute mean and std of feature importance"
   ]
  },
  {
   "cell_type": "code",
   "execution_count": 180,
   "metadata": {},
   "outputs": [],
   "source": [
    "imp_mean = list()\n",
    "imp_std = list()\n",
    "temp = np.zeros(5)\n",
    "\n",
    "for i in range(0,len(X_train_scaled_lr.columns)):\n",
    "    for j in range(1,6):\n",
    "        temp[j-1] = np.mean(imp[j-1][i])\n",
    "    imp_mean.append(np.mean(temp))\n",
    "    \n",
    "temp = list()\n",
    "\n",
    "for i in range(0,len(X_train_scaled_lr.columns)):\n",
    "    for j in range(1,6):\n",
    "        for k in range (0,10):\n",
    "            temp.append(imp[j-1][i][k])\n",
    "    imp_std.append(np.std(temp))\n",
    "    temp = list()"
   ]
  },
  {
   "cell_type": "markdown",
   "metadata": {},
   "source": [
    "### Have feature importances sum up to 1"
   ]
  },
  {
   "cell_type": "code",
   "execution_count": 181,
   "metadata": {},
   "outputs": [
    {
     "name": "stdout",
     "output_type": "stream",
     "text": [
      "[0.27721162 0.11383348 0.17844753 0.11079792 0.09496964 0.13052905\n",
      " 0.05832611 0.03588465]\n",
      "[0.04693174 0.0316075  0.0424037  0.02874801 0.03084036 0.03851083\n",
      " 0.02513588 0.01816975]\n"
     ]
    }
   ],
   "source": [
    "factor = 1/np.sum(imp_mean)\n",
    "\n",
    "print(np.multiply(imp_mean,factor))\n",
    "print(np.multiply(imp_std,factor))\n",
    "\n",
    "importance = np.multiply(imp_mean,factor) #Importance of legitimate features in the past"
   ]
  },
  {
   "cell_type": "markdown",
   "metadata": {},
   "source": [
    "## Dependence of legitimate features and sensitive features"
   ]
  },
  {
   "cell_type": "code",
   "execution_count": 182,
   "metadata": {},
   "outputs": [],
   "source": [
    "col_names_lr = X_train_scaled_lr.columns"
   ]
  },
  {
   "cell_type": "markdown",
   "metadata": {},
   "source": [
    "### Absolute Spearman's Rho"
   ]
  },
  {
   "cell_type": "code",
   "execution_count": 183,
   "metadata": {},
   "outputs": [],
   "source": [
    "def spearmans_rho(data, sensitive, col_names_lr):\n",
    "    sr = np.zeros((len(sensitive), len(col_names_lr)))\n",
    "    counter_sens = 0\n",
    "    counter_lr = 0\n",
    "\n",
    "    for sens in sensitive:\n",
    "        for lr in col_names_lr:\n",
    "            temp = sp.stats.spearmanr(data[sens],data[lr])\n",
    "            sr[counter_sens][counter_lr] = abs(temp[0])\n",
    "            counter_lr = counter_lr+1\n",
    "        counter_lr = 0\n",
    "        counter_sens = counter_sens+1\n",
    "        \n",
    "    return sr"
   ]
  },
  {
   "cell_type": "code",
   "execution_count": 184,
   "metadata": {},
   "outputs": [],
   "source": [
    "sr = spearmans_rho(train, sensitive, col_names_lr)"
   ]
  },
  {
   "cell_type": "markdown",
   "metadata": {},
   "source": [
    "### Kendall's Tau"
   ]
  },
  {
   "cell_type": "code",
   "execution_count": 185,
   "metadata": {},
   "outputs": [],
   "source": [
    "def kendall_tau(data, sensitive, col_names_lr):\n",
    "    kt = np.zeros((len(sensitive), len(col_names_lr)))\n",
    "    counter_sens = 0\n",
    "    counter_lr = 0\n",
    "\n",
    "    for sens in sensitive:\n",
    "        for lr in col_names_lr:\n",
    "            temp = sp.stats.kendalltau(data[sens],data[lr])\n",
    "            kt[counter_sens][counter_lr] = temp[0]\n",
    "            counter_lr = counter_lr+1\n",
    "        counter_lr = 0\n",
    "        counter_sens = counter_sens+1\n",
    "        \n",
    "    return kt"
   ]
  },
  {
   "cell_type": "code",
   "execution_count": 186,
   "metadata": {},
   "outputs": [],
   "source": [
    "kt = kendall_tau(train, sensitive, col_names_lr)"
   ]
  },
  {
   "cell_type": "markdown",
   "metadata": {},
   "source": [
    "### Absolute Pearson Correlation"
   ]
  },
  {
   "cell_type": "code",
   "execution_count": 187,
   "metadata": {},
   "outputs": [],
   "source": [
    "def abs_pearson_correlation(data, sensitive, col_names_lr):\n",
    "    pc = np.zeros((len(sensitive), len(col_names_lr)))\n",
    "    counter_sens = 0\n",
    "    counter_lr = 0\n",
    "\n",
    "    for sens in sensitive:\n",
    "        for lr in col_names_lr:\n",
    "            pc[counter_sens][counter_lr] = abs(data[sens].corr(data[lr]))\n",
    "            counter_lr = counter_lr+1\n",
    "        counter_lr = 0\n",
    "        counter_sens = counter_sens+1\n",
    "        \n",
    "    return pc"
   ]
  },
  {
   "cell_type": "code",
   "execution_count": 188,
   "metadata": {},
   "outputs": [],
   "source": [
    "pc = abs_pearson_correlation(train, sensitive, col_names_lr)"
   ]
  },
  {
   "cell_type": "markdown",
   "metadata": {},
   "source": [
    "### Plot dependence"
   ]
  },
  {
   "cell_type": "code",
   "execution_count": 189,
   "metadata": {},
   "outputs": [],
   "source": [
    "barWidth = 0.1\n",
    "\n",
    "def plot_dependence(pc, sr, kt, barWidth, col_names_lr, sensitive):\n",
    "\n",
    "    bar_1 = np.arange(len(pc[0][:]))\n",
    "    bar_2 = [x + barWidth for x in bar_1]\n",
    "    bar_3 = [x + barWidth for x in bar_2]\n",
    "    \n",
    "    for i in range(0,len(sensitive)):\n",
    "        plt.figure(figsize=(20,5))\n",
    "        plt.title(sensitive[i])\n",
    "        \n",
    "        plt.bar(bar_1, pc[i][:], width=barWidth, label='pc')\n",
    "        plt.bar(bar_2, sr[i][:], width=barWidth, label='sr')\n",
    "        plt.bar(bar_3, kt[i][:], width=barWidth, label='kt')\n",
    "\n",
    "        plt.xticks([r + 2*barWidth for r in range(len(ami[0][:]))], col_names_lr, rotation='vertical')\n",
    "\n",
    "        plt.legend()\n",
    "        plt.show()"
   ]
  },
  {
   "cell_type": "code",
   "execution_count": 190,
   "metadata": {},
   "outputs": [],
   "source": [
    "#plot_dependence(pc, sr, kt, barWidth, col_names_lr, sensitive)"
   ]
  },
  {
   "cell_type": "markdown",
   "metadata": {},
   "source": [
    "### Compute Spearman's Rho for all legitimate features"
   ]
  },
  {
   "cell_type": "code",
   "execution_count": 191,
   "metadata": {},
   "outputs": [],
   "source": [
    "dep = np.zeros(len(col_names_lr))\n",
    "\n",
    "for i in range(0,len(col_names_lr)):\n",
    "    temp = np.zeros(3)\n",
    "    temp[0] = sr[0][i]\n",
    "    temp[1] = sr[1][i]\n",
    "    temp[2] = sr[2][i]\n",
    "    dep[i] = np.max(temp)   "
   ]
  },
  {
   "cell_type": "code",
   "execution_count": 192,
   "metadata": {},
   "outputs": [],
   "source": [
    "dep #Max. Spearman's rank correlation for all legitimate features with any protected feature\n",
    "dep_neg = [1-x for x in dep]"
   ]
  },
  {
   "cell_type": "markdown",
   "metadata": {},
   "source": [
    "## Feature Scaling ('more is better')"
   ]
  },
  {
   "cell_type": "code",
   "execution_count": 193,
   "metadata": {},
   "outputs": [],
   "source": [
    "#X_train_scaled_lr.head()"
   ]
  },
  {
   "cell_type": "code",
   "execution_count": 194,
   "metadata": {},
   "outputs": [],
   "source": [
    "#Transform features s.t. 1 is always best and 0 is worst\n",
    "X_train_scaled_lr.iloc[:,1] = 1 - X_train_scaled_lr.iloc[:,1]\n",
    "X_train_scaled_lr.iloc[:,2] = 1 - X_train_scaled_lr.iloc[:,2]\n",
    "X_train_scaled_lr.iloc[:,5] = 1 - X_train_scaled_lr.iloc[:,5]\n",
    "\n",
    "X_test_scaled_lr.iloc[:,1] = 1 - X_test_scaled_lr.iloc[:,1]\n",
    "X_test_scaled_lr.iloc[:,2] = 1 - X_test_scaled_lr.iloc[:,2]\n",
    "X_test_scaled_lr.iloc[:,5] = 1 - X_test_scaled_lr.iloc[:,5]"
   ]
  },
  {
   "cell_type": "markdown",
   "metadata": {},
   "source": [
    "## Learn logistic regression model on all features"
   ]
  },
  {
   "cell_type": "code",
   "execution_count": 195,
   "metadata": {},
   "outputs": [],
   "source": [
    "logreg = LogisticRegression(random_state=0).fit(X_train_scaled, y_train)"
   ]
  },
  {
   "cell_type": "code",
   "execution_count": 196,
   "metadata": {},
   "outputs": [],
   "source": [
    "pred_lr_all = logreg.predict(X_test_scaled)"
   ]
  },
  {
   "cell_type": "code",
   "execution_count": 197,
   "metadata": {},
   "outputs": [],
   "source": [
    "lr_all_prob = logreg.predict_proba(X_test_scaled)"
   ]
  },
  {
   "cell_type": "code",
   "execution_count": 198,
   "metadata": {},
   "outputs": [
    {
     "data": {
      "text/plain": [
       "0.785"
      ]
     },
     "execution_count": 198,
     "metadata": {},
     "output_type": "execute_result"
    }
   ],
   "source": [
    "logreg.score(X_test_scaled, y_test)"
   ]
  },
  {
   "cell_type": "code",
   "execution_count": 199,
   "metadata": {},
   "outputs": [],
   "source": [
    "#confusion_matrix(y_test, pred_lr_all)"
   ]
  },
  {
   "cell_type": "code",
   "execution_count": 200,
   "metadata": {},
   "outputs": [],
   "source": [
    "lr_all_prob_good = lr_all_prob.transpose()[1] #Probabilites of good credit for LogReg on all features"
   ]
  },
  {
   "cell_type": "markdown",
   "metadata": {},
   "source": [
    "## Learn logistic regression model on all but protected features (FTU)"
   ]
  },
  {
   "cell_type": "code",
   "execution_count": 201,
   "metadata": {},
   "outputs": [],
   "source": [
    "logreg_ftu = LogisticRegression(random_state=0).fit(X_train_scaled_legit, y_train)"
   ]
  },
  {
   "cell_type": "code",
   "execution_count": 202,
   "metadata": {},
   "outputs": [],
   "source": [
    "pred_lr_ftu = logreg_ftu.predict(X_test_scaled_legit)"
   ]
  },
  {
   "cell_type": "code",
   "execution_count": 203,
   "metadata": {},
   "outputs": [],
   "source": [
    "lr_ftu_prob = logreg_ftu.predict_proba(X_test_scaled_legit)"
   ]
  },
  {
   "cell_type": "code",
   "execution_count": 204,
   "metadata": {},
   "outputs": [
    {
     "data": {
      "text/plain": [
       "0.765"
      ]
     },
     "execution_count": 204,
     "metadata": {},
     "output_type": "execute_result"
    }
   ],
   "source": [
    "logreg_ftu.score(X_test_scaled_legit, y_test)"
   ]
  },
  {
   "cell_type": "code",
   "execution_count": 205,
   "metadata": {},
   "outputs": [],
   "source": [
    "#confusion_matrix(y_test, pred_lr_ftu)"
   ]
  },
  {
   "cell_type": "code",
   "execution_count": 206,
   "metadata": {},
   "outputs": [],
   "source": [
    "lr_ftu_prob_good = lr_ftu_prob.transpose()[1] #Probabilities of good credit for LogReg based on FTU"
   ]
  },
  {
   "cell_type": "markdown",
   "metadata": {},
   "source": [
    "## Compute distance to the North Star and compute new labels"
   ]
  },
  {
   "cell_type": "code",
   "execution_count": 207,
   "metadata": {},
   "outputs": [],
   "source": [
    "north_star = np.ones(len(X_test_scaled_lr.columns))"
   ]
  },
  {
   "cell_type": "code",
   "execution_count": 208,
   "metadata": {},
   "outputs": [
    {
     "data": {
      "text/plain": [
       "array([1., 1., 1., 1., 1., 1., 1., 1.])"
      ]
     },
     "execution_count": 208,
     "metadata": {},
     "output_type": "execute_result"
    }
   ],
   "source": [
    "north_star"
   ]
  },
  {
   "cell_type": "code",
   "execution_count": 209,
   "metadata": {},
   "outputs": [],
   "source": [
    "#Weighted Manhattan Distance\n",
    "def weightedManhattan(a,b,w):\n",
    "    q = a-b\n",
    "    return (w*np.absolute(q)).sum()"
   ]
  },
  {
   "cell_type": "code",
   "execution_count": 210,
   "metadata": {},
   "outputs": [],
   "source": [
    "temp = list()\n",
    "X_test_scaled_lr_array = X_test_scaled_lr.to_numpy()\n",
    "\n",
    "for i in range(0,len(X_test_scaled_lr_array)):\n",
    "    dist = weightedManhattan(X_test_scaled_lr_array[i], north_star, importance*dep_neg)\n",
    "    temp.append(dist)\n",
    "    \n",
    "dist = temp\n",
    "dist_neg = [1-x for x in dist]"
   ]
  },
  {
   "cell_type": "code",
   "execution_count": 211,
   "metadata": {},
   "outputs": [],
   "source": [
    "test_new = X_test.copy()\n",
    "test_new['NEG_DIST_NORTH_STAR'] = dist_neg\n",
    "test_new['OUR_RANK'] = test_new['NEG_DIST_NORTH_STAR'].rank(ascending=False).astype(int)"
   ]
  },
  {
   "cell_type": "code",
   "execution_count": 212,
   "metadata": {},
   "outputs": [],
   "source": [
    "temp = list()\n",
    "cutoff = math.ceil(len(test_new)*share_good_test)\n",
    "dist_neg_ordered = test_new['NEG_DIST_NORTH_STAR'].sort_values(ascending=False)\n",
    "threshold_dist = dist_neg_ordered.iloc[cutoff]\n",
    "\n",
    "for i in test_new['NEG_DIST_NORTH_STAR']:\n",
    "    if (i > threshold_dist):\n",
    "        temp.append(1)\n",
    "    else:\n",
    "        temp.append(0)"
   ]
  },
  {
   "cell_type": "markdown",
   "metadata": {},
   "source": [
    "## Add remaining columns to test data"
   ]
  },
  {
   "cell_type": "code",
   "execution_count": 213,
   "metadata": {},
   "outputs": [],
   "source": [
    "test_new['LR_ALL_PROB_GOOD'] = lr_all_prob_good\n",
    "test_new['LR_ALL_RANK'] = test_new['LR_ALL_PROB_GOOD'].rank(ascending=False).astype(int)\n",
    "#test_new['LR_ALL_LABELS'] = pred_lr_all\n",
    "test_new['LR_FTU_PROB_GOOD'] = lr_ftu_prob_good\n",
    "test_new['LR_FTU_RANK'] = test_new['LR_FTU_PROB_GOOD'].rank(ascending=False).astype(int)\n",
    "#test_new['LR_FTU_LABELS'] = pred_lr_ftu\n",
    "test_new['ORIGINAL_LABELS'] = y_test\n",
    "\n",
    "test_new = test_new.reset_index(drop=True)"
   ]
  },
  {
   "cell_type": "code",
   "execution_count": 235,
   "metadata": {},
   "outputs": [],
   "source": [
    "#test_new"
   ]
  },
  {
   "cell_type": "markdown",
   "metadata": {},
   "source": [
    "## Measure individual unfairness"
   ]
  },
  {
   "cell_type": "code",
   "execution_count": 285,
   "metadata": {},
   "outputs": [],
   "source": [
    "X_test_scaled_lr_new = X_test_scaled_lr.copy()\n",
    "#X_test_scaled_lr_new.head()"
   ]
  },
  {
   "cell_type": "code",
   "execution_count": 286,
   "metadata": {},
   "outputs": [],
   "source": [
    "X_test_scaled_lr_new['LR_ALL_RANK'] = test_new['LR_ALL_RANK']\n",
    "X_test_scaled_lr_new['LR_FTU_RANK'] = test_new['LR_FTU_RANK']\n",
    "X_test_scaled_lr_new['OUR_RANK'] = test_new['OUR_RANK']\n",
    "X_test_scaled_lr_new['ORIGINAL_LABELS'] = test_new['ORIGINAL_LABELS']"
   ]
  },
  {
   "cell_type": "code",
   "execution_count": 287,
   "metadata": {},
   "outputs": [],
   "source": [
    "#X_test_scaled_lr_new"
   ]
  },
  {
   "cell_type": "markdown",
   "metadata": {},
   "source": [
    "### Ranking: Share of unfairly treated individuals and overall instances of unfairness"
   ]
  },
  {
   "cell_type": "code",
   "execution_count": 288,
   "metadata": {},
   "outputs": [],
   "source": [
    "counter_LR_ALL = 0\n",
    "counter_LR_FTU = 0\n",
    "counter_OUR_METHOD = 0\n",
    "counter_ORIGINAL = 0\n",
    "\n",
    "for i in range(0,len(X_test_scaled_lr)):\n",
    "    for j in range(0,len(X_test_scaled_lr)):\n",
    "        if(np.greater_equal(X_test_scaled_lr.iloc[i],X_test_scaled_lr.iloc[j]).all()):\n",
    "            if(np.greater(X_test_scaled_lr.iloc[i][0],X_test_scaled_lr.iloc[j][0])\n",
    "               or np.greater(X_test_scaled_lr.iloc[i][1],X_test_scaled_lr.iloc[j][1])\n",
    "               or np.greater(X_test_scaled_lr.iloc[i][2],X_test_scaled_lr.iloc[j][2])\n",
    "               or np.greater(X_test_scaled_lr.iloc[i][3],X_test_scaled_lr.iloc[j][3])\n",
    "               or np.greater(X_test_scaled_lr.iloc[i][4],X_test_scaled_lr.iloc[j][4])\n",
    "               or np.greater(X_test_scaled_lr.iloc[i][5],X_test_scaled_lr.iloc[j][5])\n",
    "               or np.greater(X_test_scaled_lr.iloc[i][6],X_test_scaled_lr.iloc[j][6])\n",
    "               or np.greater(X_test_scaled_lr.iloc[i][7],X_test_scaled_lr.iloc[j][7])\n",
    "              ):\n",
    "                if(np.greater(X_test_scaled_lr_new.iloc[i][8],X_test_scaled_lr_new.iloc[j][8])):\n",
    "                    counter_LR_ALL = counter_LR_ALL+1\n",
    "                    #break\n",
    "\n",
    "for i in range(0,len(X_test_scaled_lr)):\n",
    "    for j in range(0,len(X_test_scaled_lr)):\n",
    "        if(np.greater_equal(X_test_scaled_lr.iloc[i],X_test_scaled_lr.iloc[j]).all()):\n",
    "            if(np.greater(X_test_scaled_lr.iloc[i][0],X_test_scaled_lr.iloc[j][0])\n",
    "               or np.greater(X_test_scaled_lr.iloc[i][1],X_test_scaled_lr.iloc[j][1])\n",
    "               or np.greater(X_test_scaled_lr.iloc[i][2],X_test_scaled_lr.iloc[j][2])\n",
    "               or np.greater(X_test_scaled_lr.iloc[i][3],X_test_scaled_lr.iloc[j][3])\n",
    "               or np.greater(X_test_scaled_lr.iloc[i][4],X_test_scaled_lr.iloc[j][4])\n",
    "               or np.greater(X_test_scaled_lr.iloc[i][5],X_test_scaled_lr.iloc[j][5])\n",
    "               or np.greater(X_test_scaled_lr.iloc[i][6],X_test_scaled_lr.iloc[j][6])\n",
    "               or np.greater(X_test_scaled_lr.iloc[i][7],X_test_scaled_lr.iloc[j][7])\n",
    "              ):\n",
    "                if(np.greater(X_test_scaled_lr_new.iloc[i][9],X_test_scaled_lr_new.iloc[j][9])):\n",
    "                    counter_LR_FTU = counter_LR_FTU+1\n",
    "                    #break\n",
    "                    \n",
    "for i in range(0,len(X_test_scaled_lr)):\n",
    "    for j in range(0,len(X_test_scaled_lr)):\n",
    "        if(np.greater_equal(X_test_scaled_lr.iloc[i],X_test_scaled_lr.iloc[j]).all()):\n",
    "            if(np.greater(X_test_scaled_lr.iloc[i][0],X_test_scaled_lr.iloc[j][0])\n",
    "               or np.greater(X_test_scaled_lr.iloc[i][1],X_test_scaled_lr.iloc[j][1])\n",
    "               or np.greater(X_test_scaled_lr.iloc[i][2],X_test_scaled_lr.iloc[j][2])\n",
    "               or np.greater(X_test_scaled_lr.iloc[i][3],X_test_scaled_lr.iloc[j][3])\n",
    "               or np.greater(X_test_scaled_lr.iloc[i][4],X_test_scaled_lr.iloc[j][4])\n",
    "               or np.greater(X_test_scaled_lr.iloc[i][5],X_test_scaled_lr.iloc[j][5])\n",
    "               or np.greater(X_test_scaled_lr.iloc[i][6],X_test_scaled_lr.iloc[j][6])\n",
    "               or np.greater(X_test_scaled_lr.iloc[i][7],X_test_scaled_lr.iloc[j][7])\n",
    "              ):\n",
    "                if(np.greater(X_test_scaled_lr_new.iloc[i][10],X_test_scaled_lr_new.iloc[j][10])):\n",
    "                    counter_OUR_METHOD = counter_OUR_METHOD+1\n",
    "                    #break\n",
    "                    \n",
    "for i in range(0,len(X_test_scaled_lr)):\n",
    "    for j in range(0,len(X_test_scaled_lr)):\n",
    "        if(np.greater_equal(X_test_scaled_lr.iloc[i],X_test_scaled_lr.iloc[j]).all()):\n",
    "            if(np.greater(X_test_scaled_lr.iloc[i][0],X_test_scaled_lr.iloc[j][0])\n",
    "               or np.greater(X_test_scaled_lr.iloc[i][1],X_test_scaled_lr.iloc[j][1])\n",
    "               or np.greater(X_test_scaled_lr.iloc[i][2],X_test_scaled_lr.iloc[j][2])\n",
    "               or np.greater(X_test_scaled_lr.iloc[i][3],X_test_scaled_lr.iloc[j][3])\n",
    "               or np.greater(X_test_scaled_lr.iloc[i][4],X_test_scaled_lr.iloc[j][4])\n",
    "               or np.greater(X_test_scaled_lr.iloc[i][5],X_test_scaled_lr.iloc[j][5])\n",
    "               or np.greater(X_test_scaled_lr.iloc[i][6],X_test_scaled_lr.iloc[j][6])\n",
    "               or np.greater(X_test_scaled_lr.iloc[i][7],X_test_scaled_lr.iloc[j][7])\n",
    "              ):\n",
    "                if(np.less(X_test_scaled_lr_new.iloc[i][11],X_test_scaled_lr_new.iloc[j][11])):\n",
    "                    counter_ORIGINAL = counter_ORIGINAL+1\n",
    "                    #break"
   ]
  },
  {
   "cell_type": "code",
   "execution_count": 289,
   "metadata": {},
   "outputs": [
    {
     "name": "stdout",
     "output_type": "stream",
     "text": [
      "616\n",
      "596\n",
      "0\n",
      "222\n"
     ]
    }
   ],
   "source": [
    "print(counter_LR_ALL)\n",
    "print(counter_LR_FTU)\n",
    "print(counter_OUR_METHOD)\n",
    "print(counter_ORIGINAL)"
   ]
  },
  {
   "cell_type": "markdown",
   "metadata": {},
   "source": [
    "### Classification: Share of unfairly treated individuals"
   ]
  },
  {
   "cell_type": "code",
   "execution_count": 290,
   "metadata": {},
   "outputs": [],
   "source": [
    "alpha = [0,0.1,0.2,0.3,0.4,0.5,0.6,0.7,0.8,0.9,1]\n",
    "label_LR_ALL = list()\n",
    "label_LR_FTU = list()\n",
    "label_OUR_METHOD = list()\n",
    "\n",
    "for alpha in alpha:\n",
    "    cutoff = alpha*len(X_test)\n",
    "    for i in range(0,len(X_test)):\n",
    "        if(np.less_equal(X_test_scaled_lr_new.iloc[i][8],cutoff)):\n",
    "            label_LR_ALL.append(1)\n",
    "        else:\n",
    "            label_LR_ALL.append(0)\n",
    "        if(np.less_equal(X_test_scaled_lr_new.iloc[i][9],cutoff)):\n",
    "            label_LR_FTU.append(1)\n",
    "        else:\n",
    "            label_LR_FTU.append(0)\n",
    "        if(np.less_equal(X_test_scaled_lr_new.iloc[i][10],cutoff)):\n",
    "            label_OUR_METHOD.append(1)\n",
    "        else:\n",
    "            label_OUR_METHOD.append(0)\n",
    "    X_test_scaled_lr_new['LR_ALL_LABELS_' + str(alpha)] = label_LR_ALL\n",
    "    X_test_scaled_lr_new['LR_FTU_LABELS_' + str(alpha)] = label_LR_FTU\n",
    "    X_test_scaled_lr_new['OUR_LABELS_' + str(alpha)] = label_OUR_METHOD\n",
    "    \n",
    "    label_LR_ALL = list()\n",
    "    label_LR_FTU = list()\n",
    "    label_OUR_METHOD = list()"
   ]
  },
  {
   "cell_type": "code",
   "execution_count": 234,
   "metadata": {},
   "outputs": [
    {
     "ename": "NameError",
     "evalue": "name 'X_test_scaled_lr_new' is not defined",
     "output_type": "error",
     "traceback": [
      "\u001b[0;31m---------------------------------------------------------------------------\u001b[0m",
      "\u001b[0;31mNameError\u001b[0m                                 Traceback (most recent call last)",
      "\u001b[0;32m<ipython-input-234-e97ca4291e8c>\u001b[0m in \u001b[0;36m<module>\u001b[0;34m\u001b[0m\n\u001b[0;32m----> 1\u001b[0;31m \u001b[0mX_test_scaled_lr_new\u001b[0m\u001b[0;34m\u001b[0m\u001b[0;34m\u001b[0m\u001b[0m\n\u001b[0m",
      "\u001b[0;31mNameError\u001b[0m: name 'X_test_scaled_lr_new' is not defined"
     ]
    }
   ],
   "source": [
    "#X_test_scaled_lr_new"
   ]
  },
  {
   "cell_type": "code",
   "execution_count": 292,
   "metadata": {},
   "outputs": [
    {
     "name": "stdout",
     "output_type": "stream",
     "text": [
      "LR_ALL\n",
      "----------\n",
      "alpha=0.0:\n",
      "0 observations treated unfairly.\n",
      "alpha=0.1:\n",
      "31 observations treated unfairly.\n",
      "alpha=0.2:\n",
      "39 observations treated unfairly.\n",
      "alpha=0.30000000000000004:\n",
      "41 observations treated unfairly.\n",
      "alpha=0.4:\n",
      "36 observations treated unfairly.\n",
      "alpha=0.5:\n",
      "53 observations treated unfairly.\n",
      "alpha=0.6000000000000001:\n",
      "52 observations treated unfairly.\n",
      "alpha=0.7000000000000001:\n",
      "37 observations treated unfairly.\n",
      "alpha=0.8:\n",
      "23 observations treated unfairly.\n",
      "alpha=0.9:\n",
      "9 observations treated unfairly.\n",
      "alpha=1.0:\n",
      "0 observations treated unfairly.\n",
      "\n",
      "LR_FTU\n",
      "----------\n",
      "alpha=0.0:\n",
      "0 observations treated unfairly.\n",
      "alpha=0.1:\n",
      "20 observations treated unfairly.\n",
      "alpha=0.2:\n",
      "43 observations treated unfairly.\n",
      "alpha=0.30000000000000004:\n",
      "44 observations treated unfairly.\n",
      "alpha=0.4:\n",
      "37 observations treated unfairly.\n",
      "alpha=0.5:\n",
      "41 observations treated unfairly.\n",
      "alpha=0.6000000000000001:\n",
      "40 observations treated unfairly.\n",
      "alpha=0.7000000000000001:\n",
      "35 observations treated unfairly.\n",
      "alpha=0.8:\n",
      "24 observations treated unfairly.\n",
      "alpha=0.9:\n",
      "10 observations treated unfairly.\n",
      "alpha=1.0:\n",
      "0 observations treated unfairly.\n",
      "\n",
      "OUR_METHOD\n",
      "----------\n",
      "alpha=0.0:\n",
      "0 observations treated unfairly.\n",
      "alpha=0.1:\n",
      "0 observations treated unfairly.\n",
      "alpha=0.2:\n",
      "0 observations treated unfairly.\n",
      "alpha=0.30000000000000004:\n",
      "0 observations treated unfairly.\n",
      "alpha=0.4:\n",
      "0 observations treated unfairly.\n",
      "alpha=0.5:\n",
      "0 observations treated unfairly.\n",
      "alpha=0.6000000000000001:\n",
      "0 observations treated unfairly.\n",
      "alpha=0.7000000000000001:\n",
      "0 observations treated unfairly.\n",
      "alpha=0.8:\n",
      "0 observations treated unfairly.\n",
      "alpha=0.9:\n",
      "0 observations treated unfairly.\n",
      "alpha=1.0:\n",
      "0 observations treated unfairly.\n"
     ]
    }
   ],
   "source": [
    "counter_LR_ALL = list()\n",
    "counter_LR_FTU = list()\n",
    "counter_OUR_METHOD = list()\n",
    "temp = 0\n",
    "\n",
    "print('LR_ALL')\n",
    "print('----------')\n",
    "for k in range(0,11):\n",
    "    print('alpha=' + str(k*0.1) + ':')\n",
    "    for i in range(0,len(X_test_scaled_lr)):\n",
    "        for j in range(0,len(X_test_scaled_lr)):\n",
    "            if(np.greater_equal(X_test_scaled_lr.iloc[i],X_test_scaled_lr.iloc[j]).all()):\n",
    "                if(np.greater(X_test_scaled_lr.iloc[i][0],X_test_scaled_lr.iloc[j][0])\n",
    "                   or np.greater(X_test_scaled_lr.iloc[i][1],X_test_scaled_lr.iloc[j][1])\n",
    "                   or np.greater(X_test_scaled_lr.iloc[i][2],X_test_scaled_lr.iloc[j][2])\n",
    "                   or np.greater(X_test_scaled_lr.iloc[i][3],X_test_scaled_lr.iloc[j][3])\n",
    "                   or np.greater(X_test_scaled_lr.iloc[i][4],X_test_scaled_lr.iloc[j][4])\n",
    "                   or np.greater(X_test_scaled_lr.iloc[i][5],X_test_scaled_lr.iloc[j][5])\n",
    "                   or np.greater(X_test_scaled_lr.iloc[i][6],X_test_scaled_lr.iloc[j][6])\n",
    "                   or np.greater(X_test_scaled_lr.iloc[i][7],X_test_scaled_lr.iloc[j][7])\n",
    "                  ):\n",
    "                    if(np.less(X_test_scaled_lr_new.iloc[i][12+3*k],X_test_scaled_lr_new.iloc[j][12+3*k])):\n",
    "                        temp = temp+1\n",
    "                        break\n",
    "    print(str(temp) + ' observations treated unfairly.')\n",
    "    counter_LR_ALL.append(temp)\n",
    "    temp = 0\n",
    "    \n",
    "temp = 0\n",
    "print('')\n",
    "print('LR_FTU')\n",
    "print('----------')\n",
    "for k in range(0,11):\n",
    "    print('alpha=' + str(k*0.1) + ':')\n",
    "    for i in range(0,len(X_test_scaled_lr)):\n",
    "        for j in range(0,len(X_test_scaled_lr)):\n",
    "            if(np.greater_equal(X_test_scaled_lr.iloc[i],X_test_scaled_lr.iloc[j]).all()):\n",
    "                if(np.greater(X_test_scaled_lr.iloc[i][0],X_test_scaled_lr.iloc[j][0])\n",
    "                   or np.greater(X_test_scaled_lr.iloc[i][1],X_test_scaled_lr.iloc[j][1])\n",
    "                   or np.greater(X_test_scaled_lr.iloc[i][2],X_test_scaled_lr.iloc[j][2])\n",
    "                   or np.greater(X_test_scaled_lr.iloc[i][3],X_test_scaled_lr.iloc[j][3])\n",
    "                   or np.greater(X_test_scaled_lr.iloc[i][4],X_test_scaled_lr.iloc[j][4])\n",
    "                   or np.greater(X_test_scaled_lr.iloc[i][5],X_test_scaled_lr.iloc[j][5])\n",
    "                   or np.greater(X_test_scaled_lr.iloc[i][6],X_test_scaled_lr.iloc[j][6])\n",
    "                   or np.greater(X_test_scaled_lr.iloc[i][7],X_test_scaled_lr.iloc[j][7])\n",
    "                  ):\n",
    "                    if(np.less(X_test_scaled_lr_new.iloc[i][13+3*k],X_test_scaled_lr_new.iloc[j][13+3*k])):\n",
    "                        temp = temp+1\n",
    "                        break\n",
    "    print(str(temp) + ' observations treated unfairly.')\n",
    "    counter_LR_FTU.append(temp)\n",
    "    temp = 0\n",
    "    \n",
    "temp = 0\n",
    "print('')\n",
    "print('OUR_METHOD')\n",
    "print('----------')\n",
    "for k in range(0,11):\n",
    "    print('alpha=' + str(k*0.1) + ':')\n",
    "    for i in range(0,len(X_test_scaled_lr)):\n",
    "        for j in range(0,len(X_test_scaled_lr)):\n",
    "            if(np.greater_equal(X_test_scaled_lr.iloc[i],X_test_scaled_lr.iloc[j]).all()):\n",
    "                if(np.greater(X_test_scaled_lr.iloc[i][0],X_test_scaled_lr.iloc[j][0])\n",
    "                   or np.greater(X_test_scaled_lr.iloc[i][1],X_test_scaled_lr.iloc[j][1])\n",
    "                   or np.greater(X_test_scaled_lr.iloc[i][2],X_test_scaled_lr.iloc[j][2])\n",
    "                   or np.greater(X_test_scaled_lr.iloc[i][3],X_test_scaled_lr.iloc[j][3])\n",
    "                   or np.greater(X_test_scaled_lr.iloc[i][4],X_test_scaled_lr.iloc[j][4])\n",
    "                   or np.greater(X_test_scaled_lr.iloc[i][5],X_test_scaled_lr.iloc[j][5])\n",
    "                   or np.greater(X_test_scaled_lr.iloc[i][6],X_test_scaled_lr.iloc[j][6])\n",
    "                   or np.greater(X_test_scaled_lr.iloc[i][7],X_test_scaled_lr.iloc[j][7])\n",
    "                  ):\n",
    "                    if(np.less(X_test_scaled_lr_new.iloc[i][14+3*k],X_test_scaled_lr_new.iloc[j][14+3*k])):\n",
    "                        temp = temp+1\n",
    "                        break\n",
    "    print(str(temp) + ' observations treated unfairly.')\n",
    "    counter_OUR_METHOD.append(temp)\n",
    "    temp = 0"
   ]
  },
  {
   "cell_type": "markdown",
   "metadata": {},
   "source": [
    "### Plot"
   ]
  },
  {
   "cell_type": "code",
   "execution_count": 293,
   "metadata": {},
   "outputs": [],
   "source": [
    "#print(counter_LR_ALL)\n",
    "#print(counter_LR_FTU)\n",
    "#print(counter_OUR_METHOD)"
   ]
  },
  {
   "cell_type": "code",
   "execution_count": 294,
   "metadata": {},
   "outputs": [
    {
     "data": {
      "image/png": "[encoded data removed]",
      "text/plain": [
       "<Figure size 432x288 with 1 Axes>"
      ]
     },
     "metadata": {
      "needs_background": "light"
     },
     "output_type": "display_data"
    }
   ],
   "source": [
    "alpha = [0,0.1,0.2,0.3,0.4,0.5,0.6,0.7,0.8,0.9,1]\n",
    "plt.plot(alpha, counter_LR_ALL, label='LogReg all')\n",
    "plt.plot(alpha, counter_LR_FTU, label='LogReg FTU')\n",
    "plt.plot(alpha, counter_OUR_METHOD, label='Our Method')\n",
    "plt.legend(loc=\"upper right\")\n",
    "plt.xlabel(r'$\\alpha$')\n",
    "plt.ylabel(r'$\\mathcal{S}\\,[\\%]$');\n",
    "#tikzplotlib.save('S_over_alpha.tex')"
   ]
  }
 ],
 "metadata": {
  "kernelspec": {
   "display_name": "Python 3",
   "language": "python",
   "name": "python3"
  },
  "language_info": {
   "codemirror_mode": {
    "name": "ipython",
    "version": 3
   },
   "file_extension": ".py",
   "mimetype": "text/x-python",
   "name": "python",
   "nbconvert_exporter": "python",
   "pygments_lexer": "ipython3",
   "version": "3.7.4"
  }
 },
 "nbformat": 4,
 "nbformat_minor": 2
}
