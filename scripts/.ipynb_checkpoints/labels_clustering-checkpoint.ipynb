{
 "cells": [
  {
   "cell_type": "markdown",
   "metadata": {},
   "source": [
    "### Package Imports and Settings"
   ]
  },
  {
   "cell_type": "code",
   "execution_count": 46,
   "metadata": {},
   "outputs": [],
   "source": [
    "import pandas as pd\n",
    "import numpy as np\n",
    "import random\n",
    "from sklearn.cluster import KMeans\n",
    "import matplotlib.pyplot as plt\n",
    "import tikzplotlib\n",
    "import math\n",
    "\n",
    "#Set display options\n",
    "#pd.set_option('display.max_columns', None)\n",
    "#pd.set_option('display.max_rows', None)\n",
    "#pd.set_option('display.max_colwidth', -1)\n",
    "\n",
    "#random.seed(1)\n",
    "#np.random.seed(1)"
   ]
  },
  {
   "cell_type": "markdown",
   "metadata": {},
   "source": [
    "### Import Data"
   ]
  },
  {
   "cell_type": "code",
   "execution_count": 47,
   "metadata": {},
   "outputs": [],
   "source": [
    "data = pd.read_csv('../data/grad_school.csv', decimal=\",\", delimiter = ';')\n",
    "data = data.apply(pd.to_numeric)"
   ]
  },
  {
   "cell_type": "markdown",
   "metadata": {},
   "source": [
    "### Data Preprocessing"
   ]
  },
  {
   "cell_type": "code",
   "execution_count": 48,
   "metadata": {},
   "outputs": [
    {
     "data": {
      "text/html": [
       "<div>\n",
       "<style scoped>\n",
       "    .dataframe tbody tr th:only-of-type {\n",
       "        vertical-align: middle;\n",
       "    }\n",
       "\n",
       "    .dataframe tbody tr th {\n",
       "        vertical-align: top;\n",
       "    }\n",
       "\n",
       "    .dataframe thead th {\n",
       "        text-align: right;\n",
       "    }\n",
       "</style>\n",
       "<table border=\"1\" class=\"dataframe\">\n",
       "  <thead>\n",
       "    <tr style=\"text-align: right;\">\n",
       "      <th></th>\n",
       "      <th>ID</th>\n",
       "      <th>Gender_F</th>\n",
       "      <th>Gender_M</th>\n",
       "      <th>Race_B</th>\n",
       "      <th>Race_A</th>\n",
       "      <th>Race_W</th>\n",
       "      <th>GRE_Verbal</th>\n",
       "      <th>GRE_Quant</th>\n",
       "    </tr>\n",
       "  </thead>\n",
       "  <tbody>\n",
       "    <tr>\n",
       "      <td>0</td>\n",
       "      <td>1</td>\n",
       "      <td>1</td>\n",
       "      <td>0</td>\n",
       "      <td>1</td>\n",
       "      <td>0</td>\n",
       "      <td>0</td>\n",
       "      <td>149</td>\n",
       "      <td>165</td>\n",
       "    </tr>\n",
       "    <tr>\n",
       "      <td>1</td>\n",
       "      <td>2</td>\n",
       "      <td>1</td>\n",
       "      <td>0</td>\n",
       "      <td>0</td>\n",
       "      <td>1</td>\n",
       "      <td>0</td>\n",
       "      <td>164</td>\n",
       "      <td>159</td>\n",
       "    </tr>\n",
       "    <tr>\n",
       "      <td>2</td>\n",
       "      <td>3</td>\n",
       "      <td>1</td>\n",
       "      <td>0</td>\n",
       "      <td>0</td>\n",
       "      <td>0</td>\n",
       "      <td>1</td>\n",
       "      <td>140</td>\n",
       "      <td>153</td>\n",
       "    </tr>\n",
       "    <tr>\n",
       "      <td>3</td>\n",
       "      <td>4</td>\n",
       "      <td>0</td>\n",
       "      <td>1</td>\n",
       "      <td>1</td>\n",
       "      <td>0</td>\n",
       "      <td>0</td>\n",
       "      <td>149</td>\n",
       "      <td>156</td>\n",
       "    </tr>\n",
       "    <tr>\n",
       "      <td>4</td>\n",
       "      <td>5</td>\n",
       "      <td>0</td>\n",
       "      <td>1</td>\n",
       "      <td>0</td>\n",
       "      <td>1</td>\n",
       "      <td>0</td>\n",
       "      <td>153</td>\n",
       "      <td>154</td>\n",
       "    </tr>\n",
       "  </tbody>\n",
       "</table>\n",
       "</div>"
      ],
      "text/plain": [
       "   ID  Gender_F  Gender_M  Race_B  Race_A  Race_W  GRE_Verbal  GRE_Quant\n",
       "0   1         1         0       1       0       0         149        165\n",
       "1   2         1         0       0       1       0         164        159\n",
       "2   3         1         0       0       0       1         140        153\n",
       "3   4         0         1       1       0       0         149        156\n",
       "4   5         0         1       0       1       0         153        154"
      ]
     },
     "execution_count": 48,
     "metadata": {},
     "output_type": "execute_result"
    }
   ],
   "source": [
    "data = data.drop(['Admit','Help_1','Help_2','Help_3','Help_4','Help_5','Help_6'], axis = 1)\n",
    "data.head()\n",
    "\n",
    "#data = data.sample(frac=1).reset_index(drop=True)"
   ]
  },
  {
   "cell_type": "markdown",
   "metadata": {},
   "source": [
    "### Define Legitimate Features"
   ]
  },
  {
   "cell_type": "code",
   "execution_count": 49,
   "metadata": {},
   "outputs": [
    {
     "data": {
      "text/html": [
       "<div>\n",
       "<style scoped>\n",
       "    .dataframe tbody tr th:only-of-type {\n",
       "        vertical-align: middle;\n",
       "    }\n",
       "\n",
       "    .dataframe tbody tr th {\n",
       "        vertical-align: top;\n",
       "    }\n",
       "\n",
       "    .dataframe thead th {\n",
       "        text-align: right;\n",
       "    }\n",
       "</style>\n",
       "<table border=\"1\" class=\"dataframe\">\n",
       "  <thead>\n",
       "    <tr style=\"text-align: right;\">\n",
       "      <th></th>\n",
       "      <th>GRE_Verbal</th>\n",
       "      <th>GRE_Quant</th>\n",
       "    </tr>\n",
       "  </thead>\n",
       "  <tbody>\n",
       "    <tr>\n",
       "      <td>0</td>\n",
       "      <td>149</td>\n",
       "      <td>165</td>\n",
       "    </tr>\n",
       "    <tr>\n",
       "      <td>1</td>\n",
       "      <td>164</td>\n",
       "      <td>159</td>\n",
       "    </tr>\n",
       "    <tr>\n",
       "      <td>2</td>\n",
       "      <td>140</td>\n",
       "      <td>153</td>\n",
       "    </tr>\n",
       "    <tr>\n",
       "      <td>3</td>\n",
       "      <td>149</td>\n",
       "      <td>156</td>\n",
       "    </tr>\n",
       "    <tr>\n",
       "      <td>4</td>\n",
       "      <td>153</td>\n",
       "      <td>154</td>\n",
       "    </tr>\n",
       "  </tbody>\n",
       "</table>\n",
       "</div>"
      ],
      "text/plain": [
       "   GRE_Verbal  GRE_Quant\n",
       "0         149        165\n",
       "1         164        159\n",
       "2         140        153\n",
       "3         149        156\n",
       "4         153        154"
      ]
     },
     "execution_count": 49,
     "metadata": {},
     "output_type": "execute_result"
    }
   ],
   "source": [
    "data_cluster = data.drop(['ID','Gender_M','Gender_F','Race_W','Race_B','Race_A'], axis = 1)\n",
    "data_cluster.head()"
   ]
  },
  {
   "cell_type": "markdown",
   "metadata": {},
   "source": [
    "### Standardize Data"
   ]
  },
  {
   "cell_type": "code",
   "execution_count": 50,
   "metadata": {},
   "outputs": [],
   "source": [
    "#Standardize the data\n",
    "#data_cluster['GRE_Verbal'] = ((data_cluster['GRE_Verbal']-data_cluster['GRE_Verbal'].mean())/data_cluster['GRE_Verbal'].std())\n",
    "#data_cluster['GRE_Quant'] = ((data_cluster['GRE_Quant']-data_cluster['GRE_Quant'].mean())/data_cluster['GRE_Quant'].std())"
   ]
  },
  {
   "cell_type": "markdown",
   "metadata": {},
   "source": [
    "### Transform to NumPy Array"
   ]
  },
  {
   "cell_type": "code",
   "execution_count": 51,
   "metadata": {},
   "outputs": [],
   "source": [
    "data_cluster_array = data_cluster.to_numpy()"
   ]
  },
  {
   "cell_type": "markdown",
   "metadata": {},
   "source": [
    "### Run k-means Clustering"
   ]
  },
  {
   "cell_type": "code",
   "execution_count": 52,
   "metadata": {},
   "outputs": [
    {
     "name": "stdout",
     "output_type": "stream",
     "text": [
      "0    316\n",
      "1    284\n",
      "Name: Cluster, dtype: int64\n"
     ]
    }
   ],
   "source": [
    "init = np.array([[data_cluster['GRE_Verbal'].min(), data_cluster['GRE_Quant'].min()],[data_cluster['GRE_Verbal'].max(), data_cluster['GRE_Quant'].max()]],np.float64)\n",
    "#init = np.array([[170, 130],[170, 130]],np.float64)\n",
    "kmeans = KMeans(n_clusters=2, n_init=1, max_iter=100, init=init).fit(data_cluster_array)\n",
    "\n",
    "data['Cluster'] = kmeans.labels_\n",
    "print(data['Cluster'].value_counts())\n",
    "#print(kmeans.inertia_)\n",
    "#print(kmeans.cluster_centers_)"
   ]
  },
  {
   "cell_type": "markdown",
   "metadata": {},
   "source": [
    "### Scatter Plot of Labels"
   ]
  },
  {
   "cell_type": "code",
   "execution_count": 53,
   "metadata": {},
   "outputs": [
    {
     "data": {
      "text/plain": [
       "<matplotlib.collections.PathCollection at 0x1a224d3510>"
      ]
     },
     "execution_count": 53,
     "metadata": {},
     "output_type": "execute_result"
    },
    {
     "data": {
      "image/png": "[encoded data removed]",
      "text/plain": [
       "<Figure size 432x288 with 1 Axes>"
      ]
     },
     "metadata": {
      "needs_background": "light"
     },
     "output_type": "display_data"
    }
   ],
   "source": [
    "plt.scatter(data_cluster_array[:, 0], data_cluster_array[:, 1], c=data['Cluster'])"
   ]
  },
  {
   "cell_type": "markdown",
   "metadata": {},
   "source": [
    "### Compare Positive Outcome Distribution of all Combinations of Sensitive Attributes (Group Fairness)"
   ]
  },
  {
   "cell_type": "code",
   "execution_count": 54,
   "metadata": {},
   "outputs": [
    {
     "name": "stdout",
     "output_type": "stream",
     "text": [
      "138\n",
      "146\n",
      "---\n",
      "92\n",
      "96\n",
      "96\n",
      "---\n",
      "44\n",
      "46\n",
      "48\n",
      "---\n",
      "48\n",
      "50\n",
      "48\n"
     ]
    }
   ],
   "source": [
    "#Group fairness\n",
    "print(len(data[(data.Gender_F == 1) & (data.Cluster == 1)]))\n",
    "print(len(data[(data.Gender_M == 1) & (data.Cluster == 1)]))\n",
    "print('---')\n",
    "print(len(data[(data.Race_B == 1) & (data.Cluster == 1)]))\n",
    "print(len(data[(data.Race_A == 1) & (data.Cluster == 1)]))\n",
    "print(len(data[(data.Race_W == 1) & (data.Cluster == 1)]))\n",
    "print('---')\n",
    "print(len(data[(data.Gender_F == 1) & (data.Race_B == 1) & (data.Cluster == 1)]))\n",
    "print(len(data[(data.Gender_F == 1) & (data.Race_A == 1) & (data.Cluster == 1)]))\n",
    "print(len(data[(data.Gender_F == 1) & (data.Race_W == 1) & (data.Cluster == 1)]))\n",
    "print('---')\n",
    "print(len(data[(data.Gender_M == 1) & (data.Race_B == 1) & (data.Cluster == 1)]))\n",
    "print(len(data[(data.Gender_M == 1) & (data.Race_A == 1) & (data.Cluster == 1)]))\n",
    "print(len(data[(data.Gender_M == 1) & (data.Race_W == 1) & (data.Cluster == 1)]))"
   ]
  },
  {
   "cell_type": "code",
   "execution_count": null,
   "metadata": {},
   "outputs": [],
   "source": []
  }
 ],
 "metadata": {
  "kernelspec": {
   "display_name": "Python 3",
   "language": "python",
   "name": "python3"
  },
  "language_info": {
   "codemirror_mode": {
    "name": "ipython",
    "version": 3
   },
   "file_extension": ".py",
   "mimetype": "text/x-python",
   "name": "python",
   "nbconvert_exporter": "python",
   "pygments_lexer": "ipython3",
   "version": "3.7.4"
  }
 },
 "nbformat": 4,
 "nbformat_minor": 2
}
