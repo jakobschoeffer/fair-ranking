{
 "cells": [
  {
   "cell_type": "markdown",
   "metadata": {},
   "source": [
    "# Synthetic Graduate School Admission Data"
   ]
  },
  {
   "cell_type": "markdown",
   "metadata": {},
   "source": [
    "## Package imports and settings"
   ]
  },
  {
   "cell_type": "code",
   "execution_count": 2268,
   "metadata": {},
   "outputs": [],
   "source": [
    "import numpy as np\n",
    "import pandas as pd\n",
    "from scipy.stats import pearsonr\n",
    "from sklearn.preprocessing import MinMaxScaler"
   ]
  },
  {
   "cell_type": "code",
   "execution_count": 2269,
   "metadata": {},
   "outputs": [],
   "source": [
    "np.random.seed(0)"
   ]
  },
  {
   "cell_type": "markdown",
   "metadata": {},
   "source": [
    "## Define covariance matrices"
   ]
  },
  {
   "cell_type": "code",
   "execution_count": 2270,
   "metadata": {},
   "outputs": [],
   "source": [
    "#Number of samples for each males and females\n",
    "num_samples = 500\n",
    "mean_m_Q = 156.1\n",
    "\n",
    "#Male\n",
    "r_m = np.array([\n",
    "        [81, 28.15, 5.43],\n",
    "        [28.15, 84.64, 1.16],\n",
    "        [5.43, 1.16, 0.81]\n",
    "    ])\n",
    "\n",
    "mean_m = [150.7,mean_m_Q,3.5]\n",
    "\n",
    "#Female\n",
    "r_f = np.array([\n",
    "        [65.61, 24.51, 4.34],\n",
    "        [24.51, 79.21, 1],\n",
    "        [4.34, 1, 0.64]\n",
    "    ])\n",
    "\n",
    "mean_f = [150.3,151.2,3.7]"
   ]
  },
  {
   "cell_type": "markdown",
   "metadata": {},
   "source": [
    "## Sample GRE scores from multivariate Gaussian"
   ]
  },
  {
   "cell_type": "code",
   "execution_count": 2271,
   "metadata": {},
   "outputs": [],
   "source": [
    "y_m = np.random.multivariate_normal(mean=mean_m, cov=r_m, size=num_samples)\n",
    "y_f = np.random.multivariate_normal(mean=mean_f, cov=r_f, size=num_samples)"
   ]
  },
  {
   "cell_type": "markdown",
   "metadata": {},
   "source": [
    "## Round values to match official score ranges"
   ]
  },
  {
   "cell_type": "code",
   "execution_count": 2272,
   "metadata": {},
   "outputs": [],
   "source": [
    "#Round values\n",
    "y_m = np.round(y_m*2.0)/2.0\n",
    "y_f = np.round(y_f*2.0)/2.0\n",
    "np.transpose(y_m)[0] = np.round(np.transpose(y_m)[0])\n",
    "np.transpose(y_m)[1] = np.round(np.transpose(y_m)[1])\n",
    "np.transpose(y_f)[0] = np.round(np.transpose(y_f)[0])\n",
    "np.transpose(y_f)[1] = np.round(np.transpose(y_f)[1])"
   ]
  },
  {
   "cell_type": "markdown",
   "metadata": {},
   "source": [
    "## Truncate values to match official score ranges"
   ]
  },
  {
   "cell_type": "code",
   "execution_count": 2273,
   "metadata": {},
   "outputs": [],
   "source": [
    "for i in range(0,len(np.transpose(y_m)[0])):\n",
    "    #Male\n",
    "    if np.transpose(y_m)[0][i]>170:\n",
    "        np.transpose(y_m)[0][i]=170\n",
    "    elif np.transpose(y_m)[0][i]<130:\n",
    "        np.transpose(y_m)[0][i]=130\n",
    "    if np.transpose(y_m)[1][i]>170:\n",
    "        np.transpose(y_m)[1][i]=170\n",
    "    elif np.transpose(y_m)[1][i]<130:\n",
    "        np.transpose(y_m)[1][i]=130\n",
    "    if np.transpose(y_m)[2][i]>6:\n",
    "        np.transpose(y_m)[2][i]=6\n",
    "    elif np.transpose(y_m)[2][i]<0:\n",
    "        np.transpose(y_m)[2][i]=0\n",
    "    \n",
    "    #Female\n",
    "    if np.transpose(y_f)[0][i]>170:\n",
    "        np.transpose(y_f)[0][i]=170\n",
    "    elif np.transpose(y_f)[0][i]<130:\n",
    "        np.transpose(y_f)[0][i]=130\n",
    "    if np.transpose(y_f)[1][i]>170:\n",
    "        np.transpose(y_f)[1][i]=170\n",
    "    elif np.transpose(y_f)[1][i]<130:\n",
    "        np.transpose(y_f)[1][i]=130\n",
    "    if np.transpose(y_f)[2][i]>6:\n",
    "        np.transpose(y_f)[2][i]=6\n",
    "    elif np.transpose(y_f)[2][i]<0:\n",
    "        np.transpose(y_f)[2][i]=0"
   ]
  },
  {
   "cell_type": "markdown",
   "metadata": {},
   "source": [
    "## Set up DataFrames"
   ]
  },
  {
   "cell_type": "code",
   "execution_count": 2274,
   "metadata": {},
   "outputs": [],
   "source": [
    "df_m = pd.DataFrame(y_m)\n",
    "df_f = pd.DataFrame(y_f)\n",
    "\n",
    "df_m.columns = ['GRE_V','GRE_Q','GRE_AW']\n",
    "df_m.insert(loc=0, column='Gender', value=1)\n",
    "df_f.columns = ['GRE_V','GRE_Q','GRE_AW']\n",
    "df_f.insert(loc=0, column='Gender', value=0)"
   ]
  },
  {
   "cell_type": "markdown",
   "metadata": {},
   "source": [
    "## Scale GRE scores between 0 and 1"
   ]
  },
  {
   "cell_type": "code",
   "execution_count": 2275,
   "metadata": {},
   "outputs": [],
   "source": [
    "#Scale\n",
    "scaler_1 = MinMaxScaler()\n",
    "scaler_2 = MinMaxScaler()\n",
    "df_m[['GRE_V', 'GRE_Q', 'GRE_AW']] = scaler_1.fit_transform(df_m[['GRE_V', 'GRE_Q', 'GRE_AW']])\n",
    "df_f[['GRE_V', 'GRE_Q', 'GRE_AW']] = scaler_2.fit_transform(df_f[['GRE_V', 'GRE_Q', 'GRE_AW']])"
   ]
  },
  {
   "cell_type": "markdown",
   "metadata": {},
   "source": [
    "## Generate noisy 'scores' to determine labels"
   ]
  },
  {
   "cell_type": "code",
   "execution_count": 2276,
   "metadata": {},
   "outputs": [],
   "source": [
    "#Parameter for discrimination\n",
    "zeta = 3\n",
    "#Parameter for weight on GRE Q\n",
    "eta = 2\n",
    "#noise_lower_bound = -5\n",
    "#noise_upper_bound = 5\n",
    "noise_mean = 0\n",
    "noise_std = 0.1\n",
    "\n",
    "#Labels Male\n",
    "#noise_m = np.random.uniform(noise_lower_bound, noise_upper_bound, size=500)\n",
    "noise_m = np.random.normal(noise_mean,noise_std,500)\n",
    "df_m['Score'] = (zeta/(zeta+2+eta))*df_m.Gender+(1/(zeta+2+eta))*df_m.GRE_V+(eta/(zeta+2+eta))*df_m.GRE_Q+(1/(zeta+2+eta))*df_m.GRE_AW+noise_m\n",
    "\n",
    "#Labels Female\n",
    "#noise_f = np.random.uniform(noise_lower_bound, noise_upper_bound, size=500)\n",
    "noise_f = np.random.normal(noise_mean,noise_std,500)\n",
    "df_f['Score'] = (zeta/(zeta+2+eta))*df_f.Gender+(1/(zeta+2+eta))*df_f.GRE_V+(eta/(zeta+2+eta))*df_f.GRE_Q+(1/(zeta+2+eta))*df_f.GRE_AW+noise_f"
   ]
  },
  {
   "cell_type": "code",
   "execution_count": 2277,
   "metadata": {},
   "outputs": [],
   "source": [
    "#noise_m\n",
    "#noise_f"
   ]
  },
  {
   "cell_type": "markdown",
   "metadata": {},
   "source": [
    "## Rescale GRE scores"
   ]
  },
  {
   "cell_type": "code",
   "execution_count": 2278,
   "metadata": {},
   "outputs": [],
   "source": [
    "#Rescale\n",
    "df_m[['GRE_V', 'GRE_Q', 'GRE_AW']] = scaler_1.inverse_transform(df_m[['GRE_V', 'GRE_Q', 'GRE_AW']])\n",
    "df_f[['GRE_V', 'GRE_Q', 'GRE_AW']] = scaler_2.inverse_transform(df_f[['GRE_V', 'GRE_Q', 'GRE_AW']])"
   ]
  },
  {
   "cell_type": "markdown",
   "metadata": {},
   "source": [
    "## Concatenate male and female data"
   ]
  },
  {
   "cell_type": "code",
   "execution_count": 2279,
   "metadata": {},
   "outputs": [],
   "source": [
    "#Concatenate the frames\n",
    "df = pd.concat([df_m, df_f],ignore_index=True)"
   ]
  },
  {
   "cell_type": "markdown",
   "metadata": {},
   "source": [
    "## Generate labels"
   ]
  },
  {
   "cell_type": "code",
   "execution_count": 2280,
   "metadata": {},
   "outputs": [],
   "source": [
    "#Labels\n",
    "temp = list()\n",
    "for i in range(0,len(df)):\n",
    "    if df.Score[i]>0.5:\n",
    "        temp.append(1)\n",
    "    else:\n",
    "        temp.append(0)\n",
    "        \n",
    "df['Label'] = temp\n",
    "#df['Label'] = np.random.randint(2,size=1000)"
   ]
  },
  {
   "cell_type": "code",
   "execution_count": 2281,
   "metadata": {},
   "outputs": [
    {
     "data": {
      "text/html": [
       "<div>\n",
       "<style scoped>\n",
       "    .dataframe tbody tr th:only-of-type {\n",
       "        vertical-align: middle;\n",
       "    }\n",
       "\n",
       "    .dataframe tbody tr th {\n",
       "        vertical-align: top;\n",
       "    }\n",
       "\n",
       "    .dataframe thead th {\n",
       "        text-align: right;\n",
       "    }\n",
       "</style>\n",
       "<table border=\"1\" class=\"dataframe\">\n",
       "  <thead>\n",
       "    <tr style=\"text-align: right;\">\n",
       "      <th></th>\n",
       "      <th>Gender</th>\n",
       "      <th>GRE_V</th>\n",
       "      <th>GRE_Q</th>\n",
       "      <th>GRE_AW</th>\n",
       "      <th>Score</th>\n",
       "      <th>Label</th>\n",
       "    </tr>\n",
       "  </thead>\n",
       "  <tbody>\n",
       "    <tr>\n",
       "      <th>0</th>\n",
       "      <td>1</td>\n",
       "      <td>140.0</td>\n",
       "      <td>140.0</td>\n",
       "      <td>3.5</td>\n",
       "      <td>0.772964</td>\n",
       "      <td>1</td>\n",
       "    </tr>\n",
       "    <tr>\n",
       "      <th>1</th>\n",
       "      <td>1</td>\n",
       "      <td>144.0</td>\n",
       "      <td>130.0</td>\n",
       "      <td>2.5</td>\n",
       "      <td>0.587392</td>\n",
       "      <td>1</td>\n",
       "    </tr>\n",
       "    <tr>\n",
       "      <th>2</th>\n",
       "      <td>1</td>\n",
       "      <td>143.0</td>\n",
       "      <td>150.0</td>\n",
       "      <td>3.0</td>\n",
       "      <td>0.671344</td>\n",
       "      <td>1</td>\n",
       "    </tr>\n",
       "    <tr>\n",
       "      <th>3</th>\n",
       "      <td>1</td>\n",
       "      <td>148.0</td>\n",
       "      <td>152.0</td>\n",
       "      <td>4.5</td>\n",
       "      <td>0.779059</td>\n",
       "      <td>1</td>\n",
       "    </tr>\n",
       "    <tr>\n",
       "      <th>4</th>\n",
       "      <td>1</td>\n",
       "      <td>146.0</td>\n",
       "      <td>150.0</td>\n",
       "      <td>3.5</td>\n",
       "      <td>0.585408</td>\n",
       "      <td>1</td>\n",
       "    </tr>\n",
       "  </tbody>\n",
       "</table>\n",
       "</div>"
      ],
      "text/plain": [
       "   Gender  GRE_V  GRE_Q  GRE_AW     Score  Label\n",
       "0       1  140.0  140.0     3.5  0.772964      1\n",
       "1       1  144.0  130.0     2.5  0.587392      1\n",
       "2       1  143.0  150.0     3.0  0.671344      1\n",
       "3       1  148.0  152.0     4.5  0.779059      1\n",
       "4       1  146.0  150.0     3.5  0.585408      1"
      ]
     },
     "execution_count": 2281,
     "metadata": {},
     "output_type": "execute_result"
    }
   ],
   "source": [
    "df.head()"
   ]
  },
  {
   "cell_type": "markdown",
   "metadata": {},
   "source": [
    "## Flip labels"
   ]
  },
  {
   "cell_type": "code",
   "execution_count": 2282,
   "metadata": {},
   "outputs": [],
   "source": [
    "#share_flipped_labels = 0.5\n",
    "\n",
    "#idx = np.random.choice(len(df),int(len(df)*share_flipped_labels),replace=False)"
   ]
  },
  {
   "cell_type": "code",
   "execution_count": 2283,
   "metadata": {},
   "outputs": [],
   "source": [
    "#idx"
   ]
  },
  {
   "cell_type": "code",
   "execution_count": 2284,
   "metadata": {},
   "outputs": [],
   "source": [
    "#for i in idx:\n",
    "#    if df.iloc[i]['Label'] == 0:\n",
    "#        df.at[i,'Label'] = 1\n",
    "#    elif df.iloc[i]['Label'] == 1:\n",
    "#        df.at[i,'Label'] = 0"
   ]
  },
  {
   "cell_type": "code",
   "execution_count": 2285,
   "metadata": {},
   "outputs": [],
   "source": [
    "#df.head()"
   ]
  },
  {
   "cell_type": "markdown",
   "metadata": {},
   "source": [
    "## Shuffle data"
   ]
  },
  {
   "cell_type": "code",
   "execution_count": 2286,
   "metadata": {},
   "outputs": [],
   "source": [
    "#Shuffle\n",
    "df = df.sample(frac=1).reset_index(drop=True)"
   ]
  },
  {
   "cell_type": "markdown",
   "metadata": {},
   "source": [
    "## Export to CSV"
   ]
  },
  {
   "cell_type": "code",
   "execution_count": 2287,
   "metadata": {},
   "outputs": [],
   "source": [
    "#df.to_csv('../data/grad_school_synthetic_rescaled_theta_01_zeta_3.csv',index=False)"
   ]
  },
  {
   "cell_type": "markdown",
   "metadata": {},
   "source": [
    "## Descriptive Stats"
   ]
  },
  {
   "cell_type": "code",
   "execution_count": 2288,
   "metadata": {},
   "outputs": [
    {
     "data": {
      "text/html": [
       "<div>\n",
       "<style scoped>\n",
       "    .dataframe tbody tr th:only-of-type {\n",
       "        vertical-align: middle;\n",
       "    }\n",
       "\n",
       "    .dataframe tbody tr th {\n",
       "        vertical-align: top;\n",
       "    }\n",
       "\n",
       "    .dataframe thead th {\n",
       "        text-align: right;\n",
       "    }\n",
       "</style>\n",
       "<table border=\"1\" class=\"dataframe\">\n",
       "  <thead>\n",
       "    <tr style=\"text-align: right;\">\n",
       "      <th></th>\n",
       "      <th>Gender</th>\n",
       "      <th>GRE_V</th>\n",
       "      <th>GRE_Q</th>\n",
       "      <th>GRE_AW</th>\n",
       "      <th>Score</th>\n",
       "      <th>Label</th>\n",
       "    </tr>\n",
       "  </thead>\n",
       "  <tbody>\n",
       "    <tr>\n",
       "      <th>count</th>\n",
       "      <td>1000.00000</td>\n",
       "      <td>1000.000000</td>\n",
       "      <td>1000.00000</td>\n",
       "      <td>1000.000000</td>\n",
       "      <td>1000.000000</td>\n",
       "      <td>1000.000000</td>\n",
       "    </tr>\n",
       "    <tr>\n",
       "      <th>mean</th>\n",
       "      <td>0.50000</td>\n",
       "      <td>150.300000</td>\n",
       "      <td>153.72500</td>\n",
       "      <td>3.560000</td>\n",
       "      <td>0.527071</td>\n",
       "      <td>0.521000</td>\n",
       "    </tr>\n",
       "    <tr>\n",
       "      <th>std</th>\n",
       "      <td>0.50025</td>\n",
       "      <td>8.257129</td>\n",
       "      <td>8.67575</td>\n",
       "      <td>0.840301</td>\n",
       "      <td>0.268399</td>\n",
       "      <td>0.499809</td>\n",
       "    </tr>\n",
       "    <tr>\n",
       "      <th>min</th>\n",
       "      <td>0.00000</td>\n",
       "      <td>130.000000</td>\n",
       "      <td>130.00000</td>\n",
       "      <td>0.500000</td>\n",
       "      <td>-0.167008</td>\n",
       "      <td>0.000000</td>\n",
       "    </tr>\n",
       "    <tr>\n",
       "      <th>25%</th>\n",
       "      <td>0.00000</td>\n",
       "      <td>144.000000</td>\n",
       "      <td>148.00000</td>\n",
       "      <td>3.000000</td>\n",
       "      <td>0.285083</td>\n",
       "      <td>0.000000</td>\n",
       "    </tr>\n",
       "    <tr>\n",
       "      <th>50%</th>\n",
       "      <td>0.50000</td>\n",
       "      <td>150.000000</td>\n",
       "      <td>154.00000</td>\n",
       "      <td>3.500000</td>\n",
       "      <td>0.529142</td>\n",
       "      <td>1.000000</td>\n",
       "    </tr>\n",
       "    <tr>\n",
       "      <th>75%</th>\n",
       "      <td>1.00000</td>\n",
       "      <td>156.000000</td>\n",
       "      <td>160.00000</td>\n",
       "      <td>4.000000</td>\n",
       "      <td>0.764363</td>\n",
       "      <td>1.000000</td>\n",
       "    </tr>\n",
       "    <tr>\n",
       "      <th>max</th>\n",
       "      <td>1.00000</td>\n",
       "      <td>170.000000</td>\n",
       "      <td>170.00000</td>\n",
       "      <td>6.000000</td>\n",
       "      <td>1.182114</td>\n",
       "      <td>1.000000</td>\n",
       "    </tr>\n",
       "  </tbody>\n",
       "</table>\n",
       "</div>"
      ],
      "text/plain": [
       "           Gender        GRE_V       GRE_Q       GRE_AW        Score  \\\n",
       "count  1000.00000  1000.000000  1000.00000  1000.000000  1000.000000   \n",
       "mean      0.50000   150.300000   153.72500     3.560000     0.527071   \n",
       "std       0.50025     8.257129     8.67575     0.840301     0.268399   \n",
       "min       0.00000   130.000000   130.00000     0.500000    -0.167008   \n",
       "25%       0.00000   144.000000   148.00000     3.000000     0.285083   \n",
       "50%       0.50000   150.000000   154.00000     3.500000     0.529142   \n",
       "75%       1.00000   156.000000   160.00000     4.000000     0.764363   \n",
       "max       1.00000   170.000000   170.00000     6.000000     1.182114   \n",
       "\n",
       "             Label  \n",
       "count  1000.000000  \n",
       "mean      0.521000  \n",
       "std       0.499809  \n",
       "min       0.000000  \n",
       "25%       0.000000  \n",
       "50%       1.000000  \n",
       "75%       1.000000  \n",
       "max       1.000000  "
      ]
     },
     "execution_count": 2288,
     "metadata": {},
     "output_type": "execute_result"
    }
   ],
   "source": [
    "df.describe()"
   ]
  },
  {
   "cell_type": "code",
   "execution_count": 2289,
   "metadata": {},
   "outputs": [
    {
     "data": {
      "text/plain": [
       "1    521\n",
       "0    479\n",
       "Name: Label, dtype: int64"
      ]
     },
     "execution_count": 2289,
     "metadata": {},
     "output_type": "execute_result"
    }
   ],
   "source": [
    "df['Label'].value_counts()"
   ]
  },
  {
   "cell_type": "code",
   "execution_count": 2290,
   "metadata": {},
   "outputs": [
    {
     "name": "stdout",
     "output_type": "stream",
     "text": [
      "470\n",
      "30\n",
      "9\n",
      "491\n"
     ]
    }
   ],
   "source": [
    "print(len(df[(df['Gender'] == 0) & (df['Label'] == 0)]))\n",
    "print(len(df[(df['Gender'] == 0) & (df['Label'] == 1)]))\n",
    "print(len(df[(df['Gender'] == 1) & (df['Label'] == 0)]))\n",
    "print(len(df[(df['Gender'] == 1) & (df['Label'] == 1)]))"
   ]
  },
  {
   "cell_type": "code",
   "execution_count": null,
   "metadata": {},
   "outputs": [],
   "source": []
  }
 ],
 "metadata": {
  "kernelspec": {
   "display_name": "Python 3",
   "language": "python",
   "name": "python3"
  },
  "language_info": {
   "codemirror_mode": {
    "name": "ipython",
    "version": 3
   },
   "file_extension": ".py",
   "mimetype": "text/x-python",
   "name": "python",
   "nbconvert_exporter": "python",
   "pygments_lexer": "ipython3",
   "version": "3.7.4"
  }
 },
 "nbformat": 4,
 "nbformat_minor": 2
}
