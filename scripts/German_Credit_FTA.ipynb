{
 "cells": [
  {
   "cell_type": "markdown",
   "metadata": {},
   "source": [
    "# FTA Evaluation "
   ]
  },
  {
   "cell_type": "markdown",
   "metadata": {},
   "source": [
    "## Imports"
   ]
  },
  {
   "cell_type": "markdown",
   "metadata": {},
   "source": [
    "TBC"
   ]
  },
  {
   "cell_type": "code",
   "execution_count": null,
   "metadata": {},
   "outputs": [],
   "source": [
    "label_LR_ALL = list()\n",
    "label_LR_FTU = list()\n",
    "label_OUR_METHOD = list()\n",
    "\n",
    "cutoff = 0.75*len(X_test)\n",
    "for i in range(0,len(X_test)):\n",
    "    if(np.less_equal(X_test_scaled_lr_new.iloc[i][8],cutoff)):\n",
    "        label_LR_ALL.append(1)\n",
    "    else:\n",
    "        label_LR_ALL.append(0)\n",
    "    if(np.less_equal(X_test_scaled_lr_new.iloc[i][9],cutoff)):\n",
    "        label_LR_FTU.append(1)\n",
    "    else:\n",
    "        label_LR_FTU.append(0)\n",
    "    if(np.less_equal(X_test_scaled_lr_new.iloc[i][10],cutoff)):\n",
    "        label_OUR_METHOD.append(1)\n",
    "    else:\n",
    "        label_OUR_METHOD.append(0)\n",
    "X_test_scaled_lr_new['LR_ALL_LABELS_' + str(0.75)] = label_LR_ALL\n",
    "X_test_scaled_lr_new['LR_FTU_LABELS_' + str(0.75)] = label_LR_FTU\n",
    "X_test_scaled_lr_new['OUR_LABELS_' + str(0.75)] = label_OUR_METHOD"
   ]
  },
  {
   "cell_type": "code",
   "execution_count": null,
   "metadata": {},
   "outputs": [],
   "source": [
    "sum_dist_LR_ALL_sim = 0\n",
    "sum_dist_LR_ALL_diff = 0\n",
    "sum_dist_LR_FTU_sim = 0\n",
    "sum_dist_LR_FTU_diff = 0\n",
    "sum_dist_OUR_METHOD_sim = 0\n",
    "sum_dist_OUR_METHOD_diff = 0\n",
    "\n",
    "counter_sim = 0\n",
    "counter_diff = 0\n",
    "\n",
    "for i in range(0,len(X_test)-1):\n",
    "    for j in range(i+1,len(X_test)):\n",
    "        #LR ALL\n",
    "        if (np.absolute(X_test_scaled_lr_new.iloc[i][-3]-X_test_scaled_lr_new.iloc[j][-3])<0.5):\n",
    "            counter_sim = counter_sim+1\n",
    "            sum_dist_LR_ALL_sim = sum_dist_LR_ALL_sim + weightedManhattan(X_test_scaled_lr.iloc[i], X_test_scaled_lr.iloc[j], importance*dep_neg)\n",
    "        else:\n",
    "            counter_diff = counter_diff+1\n",
    "            sum_dist_LR_ALL_diff = sum_dist_LR_ALL_diff + weightedManhattan(X_test_scaled_lr.iloc[i], X_test_scaled_lr.iloc[j], importance*dep_neg)\n",
    "        \n",
    "        #LR FTU\n",
    "        if (np.absolute(X_test_scaled_lr_new.iloc[i][-2]-X_test_scaled_lr_new.iloc[j][-2])<0.5):\n",
    "            sum_dist_LR_FTU_sim = sum_dist_LR_FTU_sim + weightedManhattan(X_test_scaled_lr.iloc[i], X_test_scaled_lr.iloc[j], importance*dep_neg)\n",
    "        else:\n",
    "            sum_dist_LR_FTU_diff = sum_dist_LR_FTU_diff + weightedManhattan(X_test_scaled_lr.iloc[i], X_test_scaled_lr.iloc[j], importance*dep_neg)\n",
    "        \n",
    "        #OUR METHOD\n",
    "        if (np.absolute(X_test_scaled_lr_new.iloc[i][-1]-X_test_scaled_lr_new.iloc[j][-1])<0.5):\n",
    "            sum_dist_OUR_METHOD_sim = sum_dist_OUR_METHOD_sim + weightedManhattan(X_test_scaled_lr.iloc[i], X_test_scaled_lr.iloc[j], importance*dep_neg)\n",
    "        else:\n",
    "            sum_dist_OUR_METHOD_diff = sum_dist_OUR_METHOD_diff + weightedManhattan(X_test_scaled_lr.iloc[i], X_test_scaled_lr.iloc[j], importance*dep_neg)\n",
    "            \n",
    "        "
   ]
  },
  {
   "cell_type": "code",
   "execution_count": null,
   "metadata": {},
   "outputs": [],
   "source": [
    "print(sum_dist_LR_ALL_sim/counter_sim)\n",
    "print(sum_dist_LR_ALL_diff/counter_diff)\n",
    "print(sum_dist_LR_FTU_sim/counter_sim)\n",
    "print(sum_dist_LR_FTU_diff/counter_diff)\n",
    "print(sum_dist_OUR_METHOD_sim/counter_sim)\n",
    "print(sum_dist_OUR_METHOD_diff/counter_diff)"
   ]
  },
  {
   "cell_type": "markdown",
   "metadata": {},
   "source": [
    "## How many observation pairs are similar but classified differently?"
   ]
  },
  {
   "cell_type": "code",
   "execution_count": null,
   "metadata": {},
   "outputs": [],
   "source": [
    "distances_weighted = list()\n",
    "distances_manhattan = list()\n",
    "\n",
    "distances_weighted_diff_LR_ALL = list()\n",
    "distances_manhattan_diff_LR_ALL = list()\n",
    "\n",
    "for i in range(0,len(X_test)-1):\n",
    "    for j in range(i+1,len(X_test)):\n",
    "        #LR ALL\n",
    "        #if (np.absolute(X_test_scaled_lr_new.iloc[i][-3]-X_test_scaled_lr_new.iloc[j][-3])>0.5):\n",
    "            distances_weighted.append(weightedManhattan(X_test_scaled_lr.iloc[i], X_test_scaled_lr.iloc[j], importance*dep_neg))\n",
    "            distances_manhattan.append(np.linalg.norm(X_test_scaled_lr.iloc[i] - X_test_scaled_lr.iloc[j], ord=1))"
   ]
  },
  {
   "cell_type": "code",
   "execution_count": null,
   "metadata": {},
   "outputs": [],
   "source": [
    "distances_weighted.sort()\n",
    "distances_manhattan.sort()"
   ]
  },
  {
   "cell_type": "code",
   "execution_count": null,
   "metadata": {},
   "outputs": [],
   "source": [
    "perc_weighted_1 = np.percentile(distances_weighted,1)\n",
    "perc_weighted_5 = np.percentile(distances_weighted,5)\n",
    "perc_manhattan_1 = np.percentile(distances_manhattan,1)\n",
    "perc_manhattan_5 = np.percentile(distances_manhattan,5)"
   ]
  },
  {
   "cell_type": "code",
   "execution_count": null,
   "metadata": {},
   "outputs": [],
   "source": [
    "print(perc_weighted_1)\n",
    "print(perc_weighted_5)\n",
    "print(perc_manhattan_1)\n",
    "print(perc_manhattan_5)"
   ]
  },
  {
   "cell_type": "markdown",
   "metadata": {},
   "source": [
    "## Distances for observation pairs with different outcome"
   ]
  },
  {
   "cell_type": "code",
   "execution_count": null,
   "metadata": {},
   "outputs": [],
   "source": [
    "distances_weighted_diff_LR_ALL = list()\n",
    "distances_manhattan_diff_LR_ALL = list()\n",
    "\n",
    "distances_weighted_diff_LR_FTU = list()\n",
    "distances_manhattan_diff_LR_FTU = list()\n",
    "\n",
    "distances_weighted_diff_OUR_METHOD = list()\n",
    "distances_manhattan_diff_OUR_METHOD = list()\n",
    "\n",
    "\n",
    "for i in range(0,len(X_test)-1):\n",
    "    for j in range(i+1,len(X_test)):\n",
    "        #LR ALL\n",
    "        if (np.absolute(X_test_scaled_lr_new.iloc[i][-3]-X_test_scaled_lr_new.iloc[j][-3])>0.5):\n",
    "            distances_weighted_diff_LR_ALL.append(weightedManhattan(X_test_scaled_lr.iloc[i], X_test_scaled_lr.iloc[j], importance*dep_neg))\n",
    "            distances_manhattan_diff_LR_ALL.append(np.linalg.norm(X_test_scaled_lr.iloc[i] - X_test_scaled_lr.iloc[j], ord=1))\n",
    "            \n",
    "        #LR FTU\n",
    "        if (np.absolute(X_test_scaled_lr_new.iloc[i][-2]-X_test_scaled_lr_new.iloc[j][-2])>0.5):\n",
    "            distances_weighted_diff_LR_FTU.append(weightedManhattan(X_test_scaled_lr.iloc[i], X_test_scaled_lr.iloc[j], importance*dep_neg))\n",
    "            distances_manhattan_diff_LR_FTU.append(np.linalg.norm(X_test_scaled_lr.iloc[i] - X_test_scaled_lr.iloc[j], ord=1))\n",
    "            \n",
    "        #OUR METHOD\n",
    "        if (np.absolute(X_test_scaled_lr_new.iloc[i][-1]-X_test_scaled_lr_new.iloc[j][-1])>0.5):\n",
    "            distances_weighted_diff_OUR_METHOD.append(weightedManhattan(X_test_scaled_lr.iloc[i], X_test_scaled_lr.iloc[j], importance*dep_neg))\n",
    "            distances_manhattan_diff_OUR_METHOD.append(np.linalg.norm(X_test_scaled_lr.iloc[i] - X_test_scaled_lr.iloc[j], ord=1))"
   ]
  },
  {
   "cell_type": "code",
   "execution_count": null,
   "metadata": {},
   "outputs": [],
   "source": [
    "distances_weighted_diff_LR_ALL.sort()\n",
    "distances_manhattan_diff_LR_ALL.sort()\n",
    "\n",
    "distances_weighted_diff_LR_FTU.sort()\n",
    "distances_manhattan_diff_LR_FTU.sort()\n",
    "\n",
    "distances_weighted_diff_OUR_METHOD.sort()\n",
    "distances_manhattan_diff_OUR_METHOD.sort()"
   ]
  },
  {
   "cell_type": "code",
   "execution_count": null,
   "metadata": {},
   "outputs": [],
   "source": [
    "distances_weighted_diff_LR_FTU"
   ]
  }
 ],
 "metadata": {
  "kernelspec": {
   "display_name": "Python 3",
   "language": "python",
   "name": "python3"
  },
  "language_info": {
   "codemirror_mode": {
    "name": "ipython",
    "version": 3
   },
   "file_extension": ".py",
   "mimetype": "text/x-python",
   "name": "python",
   "nbconvert_exporter": "python",
   "pygments_lexer": "ipython3",
   "version": "3.7.4"
  }
 },
 "nbformat": 4,
 "nbformat_minor": 4
}
